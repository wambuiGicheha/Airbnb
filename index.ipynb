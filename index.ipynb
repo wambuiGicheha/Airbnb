{
 "cells": [
  {
   "cell_type": "code",
   "execution_count": 138,
   "metadata": {},
   "outputs": [],
   "source": [
    "import pandas as pd\n",
    "import numpy as  np"
   ]
  },
  {
   "cell_type": "code",
   "execution_count": 139,
   "metadata": {},
   "outputs": [
    {
     "data": {
      "text/plain": [
       "Index(['id', 'name', 'host_id', 'host_name', 'neighbourhood_group',\n",
       "       'neighbourhood', 'latitude', 'longitude', 'room_type', 'price',\n",
       "       'minimum_nights', 'number_of_reviews', 'last_review',\n",
       "       'reviews_per_month', 'calculated_host_listings_count',\n",
       "       'availability_365', 'number_of_reviews_ltm', 'license'],\n",
       "      dtype='object')"
      ]
     },
     "execution_count": 139,
     "metadata": {},
     "output_type": "execute_result"
    }
   ],
   "source": [
    "#load the dataset\n",
    "houses = pd.read_csv('Data/listings.csv')\n",
    "houses.columns\n"
   ]
  },
  {
   "cell_type": "code",
   "execution_count": 140,
   "metadata": {},
   "outputs": [
    {
     "data": {
      "text/html": [
       "<div>\n",
       "<style scoped>\n",
       "    .dataframe tbody tr th:only-of-type {\n",
       "        vertical-align: middle;\n",
       "    }\n",
       "\n",
       "    .dataframe tbody tr th {\n",
       "        vertical-align: top;\n",
       "    }\n",
       "\n",
       "    .dataframe thead th {\n",
       "        text-align: right;\n",
       "    }\n",
       "</style>\n",
       "<table border=\"1\" class=\"dataframe\">\n",
       "  <thead>\n",
       "    <tr style=\"text-align: right;\">\n",
       "      <th></th>\n",
       "      <th>id</th>\n",
       "      <th>name</th>\n",
       "      <th>host_id</th>\n",
       "      <th>host_name</th>\n",
       "      <th>neighbourhood_group</th>\n",
       "      <th>neighbourhood</th>\n",
       "      <th>latitude</th>\n",
       "      <th>longitude</th>\n",
       "      <th>room_type</th>\n",
       "      <th>price</th>\n",
       "      <th>minimum_nights</th>\n",
       "      <th>number_of_reviews</th>\n",
       "      <th>last_review</th>\n",
       "      <th>reviews_per_month</th>\n",
       "      <th>calculated_host_listings_count</th>\n",
       "      <th>availability_365</th>\n",
       "      <th>number_of_reviews_ltm</th>\n",
       "      <th>license</th>\n",
       "    </tr>\n",
       "  </thead>\n",
       "  <tbody>\n",
       "    <tr>\n",
       "      <th>0</th>\n",
       "      <td>3191</td>\n",
       "      <td>Malleson Garden Cottage</td>\n",
       "      <td>3754</td>\n",
       "      <td>Brigitte</td>\n",
       "      <td>NaN</td>\n",
       "      <td>Ward 57</td>\n",
       "      <td>-33.94762</td>\n",
       "      <td>18.47599</td>\n",
       "      <td>Entire home/apt</td>\n",
       "      <td>783.0</td>\n",
       "      <td>3</td>\n",
       "      <td>79</td>\n",
       "      <td>2024-06-18</td>\n",
       "      <td>0.56</td>\n",
       "      <td>1</td>\n",
       "      <td>11</td>\n",
       "      <td>4</td>\n",
       "      <td>NaN</td>\n",
       "    </tr>\n",
       "    <tr>\n",
       "      <th>1</th>\n",
       "      <td>15007</td>\n",
       "      <td>Blaauwberg House on the beach in Bloubergstrand</td>\n",
       "      <td>59072</td>\n",
       "      <td>Dirk</td>\n",
       "      <td>NaN</td>\n",
       "      <td>Ward 23</td>\n",
       "      <td>-33.80001</td>\n",
       "      <td>18.46063</td>\n",
       "      <td>Entire home/apt</td>\n",
       "      <td>6550.0</td>\n",
       "      <td>2</td>\n",
       "      <td>47</td>\n",
       "      <td>2024-10-19</td>\n",
       "      <td>0.35</td>\n",
       "      <td>3</td>\n",
       "      <td>46</td>\n",
       "      <td>2</td>\n",
       "      <td>NaN</td>\n",
       "    </tr>\n",
       "    <tr>\n",
       "      <th>2</th>\n",
       "      <td>15068</td>\n",
       "      <td>Grande Bay</td>\n",
       "      <td>59318</td>\n",
       "      <td>Linda</td>\n",
       "      <td>NaN</td>\n",
       "      <td>Ward 23</td>\n",
       "      <td>-33.78826</td>\n",
       "      <td>18.45940</td>\n",
       "      <td>Entire home/apt</td>\n",
       "      <td>3000.0</td>\n",
       "      <td>4</td>\n",
       "      <td>0</td>\n",
       "      <td>NaN</td>\n",
       "      <td>NaN</td>\n",
       "      <td>6</td>\n",
       "      <td>356</td>\n",
       "      <td>0</td>\n",
       "      <td>NaN</td>\n",
       "    </tr>\n",
       "  </tbody>\n",
       "</table>\n",
       "</div>"
      ],
      "text/plain": [
       "      id                                             name  host_id host_name  \\\n",
       "0   3191                          Malleson Garden Cottage     3754  Brigitte   \n",
       "1  15007  Blaauwberg House on the beach in Bloubergstrand    59072      Dirk   \n",
       "2  15068                                       Grande Bay    59318     Linda   \n",
       "\n",
       "   neighbourhood_group neighbourhood  latitude  longitude        room_type  \\\n",
       "0                  NaN       Ward 57 -33.94762   18.47599  Entire home/apt   \n",
       "1                  NaN       Ward 23 -33.80001   18.46063  Entire home/apt   \n",
       "2                  NaN       Ward 23 -33.78826   18.45940  Entire home/apt   \n",
       "\n",
       "    price  minimum_nights  number_of_reviews last_review  reviews_per_month  \\\n",
       "0   783.0               3                 79  2024-06-18               0.56   \n",
       "1  6550.0               2                 47  2024-10-19               0.35   \n",
       "2  3000.0               4                  0         NaN                NaN   \n",
       "\n",
       "   calculated_host_listings_count  availability_365  number_of_reviews_ltm  \\\n",
       "0                               1                11                      4   \n",
       "1                               3                46                      2   \n",
       "2                               6               356                      0   \n",
       "\n",
       "  license  \n",
       "0     NaN  \n",
       "1     NaN  \n",
       "2     NaN  "
      ]
     },
     "execution_count": 140,
     "metadata": {},
     "output_type": "execute_result"
    }
   ],
   "source": [
    "houses.head(3)"
   ]
  },
  {
   "cell_type": "code",
   "execution_count": 141,
   "metadata": {},
   "outputs": [
    {
     "data": {
      "text/html": [
       "<div>\n",
       "<style scoped>\n",
       "    .dataframe tbody tr th:only-of-type {\n",
       "        vertical-align: middle;\n",
       "    }\n",
       "\n",
       "    .dataframe tbody tr th {\n",
       "        vertical-align: top;\n",
       "    }\n",
       "\n",
       "    .dataframe thead th {\n",
       "        text-align: right;\n",
       "    }\n",
       "</style>\n",
       "<table border=\"1\" class=\"dataframe\">\n",
       "  <thead>\n",
       "    <tr style=\"text-align: right;\">\n",
       "      <th></th>\n",
       "      <th>id</th>\n",
       "      <th>host_id</th>\n",
       "      <th>neighbourhood_group</th>\n",
       "      <th>latitude</th>\n",
       "      <th>longitude</th>\n",
       "      <th>price</th>\n",
       "      <th>minimum_nights</th>\n",
       "      <th>number_of_reviews</th>\n",
       "      <th>reviews_per_month</th>\n",
       "      <th>calculated_host_listings_count</th>\n",
       "      <th>availability_365</th>\n",
       "      <th>number_of_reviews_ltm</th>\n",
       "    </tr>\n",
       "  </thead>\n",
       "  <tbody>\n",
       "    <tr>\n",
       "      <th>count</th>\n",
       "      <td>2.581600e+04</td>\n",
       "      <td>2.581600e+04</td>\n",
       "      <td>0.0</td>\n",
       "      <td>25816.000000</td>\n",
       "      <td>25816.000000</td>\n",
       "      <td>21510.000000</td>\n",
       "      <td>25816.000000</td>\n",
       "      <td>25816.000000</td>\n",
       "      <td>19458.000000</td>\n",
       "      <td>25816.000000</td>\n",
       "      <td>25816.000000</td>\n",
       "      <td>25816.000000</td>\n",
       "    </tr>\n",
       "    <tr>\n",
       "      <th>mean</th>\n",
       "      <td>5.871331e+17</td>\n",
       "      <td>2.040918e+08</td>\n",
       "      <td>NaN</td>\n",
       "      <td>-33.955590</td>\n",
       "      <td>18.472027</td>\n",
       "      <td>4404.111018</td>\n",
       "      <td>4.396266</td>\n",
       "      <td>23.116478</td>\n",
       "      <td>0.932417</td>\n",
       "      <td>12.844670</td>\n",
       "      <td>200.388325</td>\n",
       "      <td>6.119654</td>\n",
       "    </tr>\n",
       "    <tr>\n",
       "      <th>std</th>\n",
       "      <td>5.316011e+17</td>\n",
       "      <td>2.000484e+08</td>\n",
       "      <td>NaN</td>\n",
       "      <td>0.098417</td>\n",
       "      <td>0.124090</td>\n",
       "      <td>9540.179791</td>\n",
       "      <td>20.776909</td>\n",
       "      <td>46.209194</td>\n",
       "      <td>1.091803</td>\n",
       "      <td>28.473072</td>\n",
       "      <td>129.645580</td>\n",
       "      <td>10.544251</td>\n",
       "    </tr>\n",
       "    <tr>\n",
       "      <th>min</th>\n",
       "      <td>3.191000e+03</td>\n",
       "      <td>3.754000e+03</td>\n",
       "      <td>NaN</td>\n",
       "      <td>-34.262840</td>\n",
       "      <td>18.318968</td>\n",
       "      <td>144.000000</td>\n",
       "      <td>1.000000</td>\n",
       "      <td>0.000000</td>\n",
       "      <td>0.010000</td>\n",
       "      <td>1.000000</td>\n",
       "      <td>0.000000</td>\n",
       "      <td>0.000000</td>\n",
       "    </tr>\n",
       "    <tr>\n",
       "      <th>25%</th>\n",
       "      <td>3.258190e+07</td>\n",
       "      <td>3.491403e+07</td>\n",
       "      <td>NaN</td>\n",
       "      <td>-34.014930</td>\n",
       "      <td>18.400966</td>\n",
       "      <td>1200.000000</td>\n",
       "      <td>1.000000</td>\n",
       "      <td>1.000000</td>\n",
       "      <td>0.180000</td>\n",
       "      <td>1.000000</td>\n",
       "      <td>75.000000</td>\n",
       "      <td>0.000000</td>\n",
       "    </tr>\n",
       "    <tr>\n",
       "      <th>50%</th>\n",
       "      <td>7.337961e+17</td>\n",
       "      <td>1.160514e+08</td>\n",
       "      <td>NaN</td>\n",
       "      <td>-33.927548</td>\n",
       "      <td>18.425413</td>\n",
       "      <td>2129.000000</td>\n",
       "      <td>2.000000</td>\n",
       "      <td>5.000000</td>\n",
       "      <td>0.570000</td>\n",
       "      <td>2.000000</td>\n",
       "      <td>238.000000</td>\n",
       "      <td>2.000000</td>\n",
       "    </tr>\n",
       "    <tr>\n",
       "      <th>75%</th>\n",
       "      <td>1.086186e+18</td>\n",
       "      <td>3.707272e+08</td>\n",
       "      <td>NaN</td>\n",
       "      <td>-33.910028</td>\n",
       "      <td>18.482063</td>\n",
       "      <td>4071.000000</td>\n",
       "      <td>3.000000</td>\n",
       "      <td>24.000000</td>\n",
       "      <td>1.260000</td>\n",
       "      <td>8.000000</td>\n",
       "      <td>320.000000</td>\n",
       "      <td>8.000000</td>\n",
       "    </tr>\n",
       "    <tr>\n",
       "      <th>max</th>\n",
       "      <td>1.320402e+18</td>\n",
       "      <td>6.688190e+08</td>\n",
       "      <td>NaN</td>\n",
       "      <td>-33.572180</td>\n",
       "      <td>18.936030</td>\n",
       "      <td>273736.000000</td>\n",
       "      <td>999.000000</td>\n",
       "      <td>798.000000</td>\n",
       "      <td>22.650000</td>\n",
       "      <td>175.000000</td>\n",
       "      <td>365.000000</td>\n",
       "      <td>154.000000</td>\n",
       "    </tr>\n",
       "  </tbody>\n",
       "</table>\n",
       "</div>"
      ],
      "text/plain": [
       "                 id       host_id  neighbourhood_group      latitude  \\\n",
       "count  2.581600e+04  2.581600e+04                  0.0  25816.000000   \n",
       "mean   5.871331e+17  2.040918e+08                  NaN    -33.955590   \n",
       "std    5.316011e+17  2.000484e+08                  NaN      0.098417   \n",
       "min    3.191000e+03  3.754000e+03                  NaN    -34.262840   \n",
       "25%    3.258190e+07  3.491403e+07                  NaN    -34.014930   \n",
       "50%    7.337961e+17  1.160514e+08                  NaN    -33.927548   \n",
       "75%    1.086186e+18  3.707272e+08                  NaN    -33.910028   \n",
       "max    1.320402e+18  6.688190e+08                  NaN    -33.572180   \n",
       "\n",
       "          longitude          price  minimum_nights  number_of_reviews  \\\n",
       "count  25816.000000   21510.000000    25816.000000       25816.000000   \n",
       "mean      18.472027    4404.111018        4.396266          23.116478   \n",
       "std        0.124090    9540.179791       20.776909          46.209194   \n",
       "min       18.318968     144.000000        1.000000           0.000000   \n",
       "25%       18.400966    1200.000000        1.000000           1.000000   \n",
       "50%       18.425413    2129.000000        2.000000           5.000000   \n",
       "75%       18.482063    4071.000000        3.000000          24.000000   \n",
       "max       18.936030  273736.000000      999.000000         798.000000   \n",
       "\n",
       "       reviews_per_month  calculated_host_listings_count  availability_365  \\\n",
       "count       19458.000000                    25816.000000      25816.000000   \n",
       "mean            0.932417                       12.844670        200.388325   \n",
       "std             1.091803                       28.473072        129.645580   \n",
       "min             0.010000                        1.000000          0.000000   \n",
       "25%             0.180000                        1.000000         75.000000   \n",
       "50%             0.570000                        2.000000        238.000000   \n",
       "75%             1.260000                        8.000000        320.000000   \n",
       "max            22.650000                      175.000000        365.000000   \n",
       "\n",
       "       number_of_reviews_ltm  \n",
       "count           25816.000000  \n",
       "mean                6.119654  \n",
       "std                10.544251  \n",
       "min                 0.000000  \n",
       "25%                 0.000000  \n",
       "50%                 2.000000  \n",
       "75%                 8.000000  \n",
       "max               154.000000  "
      ]
     },
     "execution_count": 141,
     "metadata": {},
     "output_type": "execute_result"
    }
   ],
   "source": [
    "#Describe the dataset\n",
    "houses.describe()"
   ]
  },
  {
   "cell_type": "code",
   "execution_count": 142,
   "metadata": {},
   "outputs": [
    {
     "name": "stdout",
     "output_type": "stream",
     "text": [
      "<class 'pandas.core.frame.DataFrame'>\n",
      "RangeIndex: 25816 entries, 0 to 25815\n",
      "Data columns (total 18 columns):\n",
      " #   Column                          Non-Null Count  Dtype  \n",
      "---  ------                          --------------  -----  \n",
      " 0   id                              25816 non-null  int64  \n",
      " 1   name                            25815 non-null  object \n",
      " 2   host_id                         25816 non-null  int64  \n",
      " 3   host_name                       25745 non-null  object \n",
      " 4   neighbourhood_group             0 non-null      float64\n",
      " 5   neighbourhood                   25816 non-null  object \n",
      " 6   latitude                        25816 non-null  float64\n",
      " 7   longitude                       25816 non-null  float64\n",
      " 8   room_type                       25816 non-null  object \n",
      " 9   price                           21510 non-null  float64\n",
      " 10  minimum_nights                  25816 non-null  int64  \n",
      " 11  number_of_reviews               25816 non-null  int64  \n",
      " 12  last_review                     19458 non-null  object \n",
      " 13  reviews_per_month               19458 non-null  float64\n",
      " 14  calculated_host_listings_count  25816 non-null  int64  \n",
      " 15  availability_365                25816 non-null  int64  \n",
      " 16  number_of_reviews_ltm           25816 non-null  int64  \n",
      " 17  license                         84 non-null     object \n",
      "dtypes: float64(5), int64(7), object(6)\n",
      "memory usage: 3.5+ MB\n"
     ]
    }
   ],
   "source": [
    "#info about the dataset\n",
    "houses.info()"
   ]
  },
  {
   "cell_type": "markdown",
   "metadata": {},
   "source": [
    "From the output displayed above, a few observations can be made :\n",
    "\n",
    "1. There are 18 columns in this dataset\n",
    "2. They include both integers and objects(numbers and strings)\n",
    "3. Some columns have null values - further exploarion will be done to determine the best approach to handle the null values\n"
   ]
  },
  {
   "cell_type": "markdown",
   "metadata": {},
   "source": [
    "#### Check for missing values"
   ]
  },
  {
   "cell_type": "code",
   "execution_count": 143,
   "metadata": {},
   "outputs": [
    {
     "data": {
      "text/plain": [
       "id                                  0.000000\n",
       "name                                0.003874\n",
       "host_id                             0.000000\n",
       "host_name                           0.275023\n",
       "neighbourhood_group               100.000000\n",
       "neighbourhood                       0.000000\n",
       "latitude                            0.000000\n",
       "longitude                           0.000000\n",
       "room_type                           0.000000\n",
       "price                              16.679579\n",
       "minimum_nights                      0.000000\n",
       "number_of_reviews                   0.000000\n",
       "last_review                        24.628138\n",
       "reviews_per_month                  24.628138\n",
       "calculated_host_listings_count      0.000000\n",
       "availability_365                    0.000000\n",
       "number_of_reviews_ltm               0.000000\n",
       "license                            99.674620\n",
       "dtype: float64"
      ]
     },
     "execution_count": 143,
     "metadata": {},
     "output_type": "execute_result"
    }
   ],
   "source": [
    "#check for missing values in percentages\n",
    "houses.isnull().sum()/len(houses)*100"
   ]
  },
  {
   "cell_type": "markdown",
   "metadata": {},
   "source": [
    "The output above shows the percentages of the columns with missing values. \n",
    "1. All the rows in the neighbourhood_group column have null values\n",
    "2. The Name column has some few missing values in the column ~ 0.03\n",
    "3. Host name column has 27% of the rows with missing values\n",
    "4. Price has 16% of its rows with missing values\n",
    "5. Last review and reviews_per_month  columns have ~25% null values in their rows\n",
    "6. The last column has nearly 99% of it rows with missing values\n",
    "\n",
    "For columns that have missing values with more than 50% of their values missing will be dropped.\n",
    "The columns whose missing values are below @5% will be imputed with either the mean, median or mode\n",
    "and those with less thab 10%, their rows will be dropped as this will not affect the dataset \n",
    "\n",
    "\n"
   ]
  },
  {
   "cell_type": "code",
   "execution_count": 144,
   "metadata": {},
   "outputs": [],
   "source": [
    "#drop column neighbourhood_group\n",
    "houses.drop(columns=\"neighbourhood_group\", inplace=True)\n"
   ]
  },
  {
   "cell_type": "code",
   "execution_count": 145,
   "metadata": {},
   "outputs": [
    {
     "data": {
      "text/plain": [
       "Index(['id', 'name', 'host_id', 'host_name', 'neighbourhood', 'latitude',\n",
       "       'longitude', 'room_type', 'price', 'minimum_nights',\n",
       "       'number_of_reviews', 'last_review', 'reviews_per_month',\n",
       "       'calculated_host_listings_count', 'availability_365',\n",
       "       'number_of_reviews_ltm', 'license'],\n",
       "      dtype='object')"
      ]
     },
     "execution_count": 145,
     "metadata": {},
     "output_type": "execute_result"
    }
   ],
   "source": [
    "houses.columns"
   ]
  },
  {
   "cell_type": "code",
   "execution_count": 146,
   "metadata": {},
   "outputs": [],
   "source": [
    "#drop the license column \n",
    "houses.drop(columns=\"license\", inplace=True)"
   ]
  },
  {
   "cell_type": "code",
   "execution_count": 147,
   "metadata": {},
   "outputs": [
    {
     "data": {
      "text/plain": [
       "Index(['name', 'host_name', 'price', 'last_review', 'reviews_per_month'], dtype='object')"
      ]
     },
     "execution_count": 147,
     "metadata": {},
     "output_type": "execute_result"
    }
   ],
   "source": [
    "#check for the columns with missing values but less than 10%\n",
    "houses.columns[houses.isnull().sum() > 0 ]\n"
   ]
  },
  {
   "cell_type": "code",
   "execution_count": null,
   "metadata": {},
   "outputs": [],
   "source": [
    "#Drop the rows in the name column  and host_name with missing values\n",
    "houses[\"name\"].dropna(inplace=True)"
   ]
  },
  {
   "cell_type": "code",
   "execution_count": 149,
   "metadata": {},
   "outputs": [
    {
     "data": {
      "text/plain": [
       "1"
      ]
     },
     "execution_count": 149,
     "metadata": {},
     "output_type": "execute_result"
    }
   ],
   "source": [
    "#check the name column for missing values\n",
    "houses[\"name\"].isnull().sum()"
   ]
  },
  {
   "cell_type": "code",
   "execution_count": 150,
   "metadata": {},
   "outputs": [
    {
     "data": {
      "text/plain": [
       "id                                 0.000000\n",
       "name                               0.003874\n",
       "host_id                            0.000000\n",
       "host_name                          0.275023\n",
       "neighbourhood                      0.000000\n",
       "latitude                           0.000000\n",
       "longitude                          0.000000\n",
       "room_type                          0.000000\n",
       "price                             16.679579\n",
       "minimum_nights                     0.000000\n",
       "number_of_reviews                  0.000000\n",
       "last_review                       24.628138\n",
       "reviews_per_month                 24.628138\n",
       "calculated_host_listings_count     0.000000\n",
       "availability_365                   0.000000\n",
       "number_of_reviews_ltm              0.000000\n",
       "dtype: float64"
      ]
     },
     "execution_count": 150,
     "metadata": {},
     "output_type": "execute_result"
    }
   ],
   "source": [
    "#check for missing values in percentages\n",
    "houses.isnull().sum()/len(houses)*100"
   ]
  }
 ],
 "metadata": {
  "kernelspec": {
   "display_name": "Python (learn-env)",
   "language": "python",
   "name": "learn-env"
  },
  "language_info": {
   "codemirror_mode": {
    "name": "ipython",
    "version": 3
   },
   "file_extension": ".py",
   "mimetype": "text/x-python",
   "name": "python",
   "nbconvert_exporter": "python",
   "pygments_lexer": "ipython3",
   "version": "3.8.5"
  }
 },
 "nbformat": 4,
 "nbformat_minor": 2
}
