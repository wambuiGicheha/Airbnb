{
 "cells": [
  {
   "cell_type": "markdown",
   "metadata": {},
   "source": [
    "### Data Preprocessing "
   ]
  },
  {
   "cell_type": "code",
   "execution_count": 138,
   "metadata": {},
   "outputs": [],
   "source": [
    "import pandas as pd\n",
    "import numpy as  np"
   ]
  },
  {
   "cell_type": "code",
   "execution_count": 139,
   "metadata": {},
   "outputs": [
    {
     "data": {
      "text/plain": [
       "Index(['id', 'name', 'host_id', 'host_name', 'neighbourhood_group',\n",
       "       'neighbourhood', 'latitude', 'longitude', 'room_type', 'price',\n",
       "       'minimum_nights', 'number_of_reviews', 'last_review',\n",
       "       'reviews_per_month', 'calculated_host_listings_count',\n",
       "       'availability_365', 'number_of_reviews_ltm', 'license'],\n",
       "      dtype='object')"
      ]
     },
     "execution_count": 139,
     "metadata": {},
     "output_type": "execute_result"
    }
   ],
   "source": [
    "#load the dataset\n",
    "houses = pd.read_csv('Data/listings.csv')\n",
    "houses.columns\n"
   ]
  },
  {
   "cell_type": "code",
   "execution_count": 140,
   "metadata": {},
   "outputs": [
    {
     "data": {
      "text/html": [
       "<div>\n",
       "<style scoped>\n",
       "    .dataframe tbody tr th:only-of-type {\n",
       "        vertical-align: middle;\n",
       "    }\n",
       "\n",
       "    .dataframe tbody tr th {\n",
       "        vertical-align: top;\n",
       "    }\n",
       "\n",
       "    .dataframe thead th {\n",
       "        text-align: right;\n",
       "    }\n",
       "</style>\n",
       "<table border=\"1\" class=\"dataframe\">\n",
       "  <thead>\n",
       "    <tr style=\"text-align: right;\">\n",
       "      <th></th>\n",
       "      <th>id</th>\n",
       "      <th>name</th>\n",
       "      <th>host_id</th>\n",
       "      <th>host_name</th>\n",
       "      <th>neighbourhood_group</th>\n",
       "      <th>neighbourhood</th>\n",
       "      <th>latitude</th>\n",
       "      <th>longitude</th>\n",
       "      <th>room_type</th>\n",
       "      <th>price</th>\n",
       "      <th>minimum_nights</th>\n",
       "      <th>number_of_reviews</th>\n",
       "      <th>last_review</th>\n",
       "      <th>reviews_per_month</th>\n",
       "      <th>calculated_host_listings_count</th>\n",
       "      <th>availability_365</th>\n",
       "      <th>number_of_reviews_ltm</th>\n",
       "      <th>license</th>\n",
       "    </tr>\n",
       "  </thead>\n",
       "  <tbody>\n",
       "    <tr>\n",
       "      <th>0</th>\n",
       "      <td>3191</td>\n",
       "      <td>Malleson Garden Cottage</td>\n",
       "      <td>3754</td>\n",
       "      <td>Brigitte</td>\n",
       "      <td>NaN</td>\n",
       "      <td>Ward 57</td>\n",
       "      <td>-33.94762</td>\n",
       "      <td>18.47599</td>\n",
       "      <td>Entire home/apt</td>\n",
       "      <td>783.0</td>\n",
       "      <td>3</td>\n",
       "      <td>79</td>\n",
       "      <td>2024-06-18</td>\n",
       "      <td>0.56</td>\n",
       "      <td>1</td>\n",
       "      <td>11</td>\n",
       "      <td>4</td>\n",
       "      <td>NaN</td>\n",
       "    </tr>\n",
       "    <tr>\n",
       "      <th>1</th>\n",
       "      <td>15007</td>\n",
       "      <td>Blaauwberg House on the beach in Bloubergstrand</td>\n",
       "      <td>59072</td>\n",
       "      <td>Dirk</td>\n",
       "      <td>NaN</td>\n",
       "      <td>Ward 23</td>\n",
       "      <td>-33.80001</td>\n",
       "      <td>18.46063</td>\n",
       "      <td>Entire home/apt</td>\n",
       "      <td>6550.0</td>\n",
       "      <td>2</td>\n",
       "      <td>47</td>\n",
       "      <td>2024-10-19</td>\n",
       "      <td>0.35</td>\n",
       "      <td>3</td>\n",
       "      <td>46</td>\n",
       "      <td>2</td>\n",
       "      <td>NaN</td>\n",
       "    </tr>\n",
       "    <tr>\n",
       "      <th>2</th>\n",
       "      <td>15068</td>\n",
       "      <td>Grande Bay</td>\n",
       "      <td>59318</td>\n",
       "      <td>Linda</td>\n",
       "      <td>NaN</td>\n",
       "      <td>Ward 23</td>\n",
       "      <td>-33.78826</td>\n",
       "      <td>18.45940</td>\n",
       "      <td>Entire home/apt</td>\n",
       "      <td>3000.0</td>\n",
       "      <td>4</td>\n",
       "      <td>0</td>\n",
       "      <td>NaN</td>\n",
       "      <td>NaN</td>\n",
       "      <td>6</td>\n",
       "      <td>356</td>\n",
       "      <td>0</td>\n",
       "      <td>NaN</td>\n",
       "    </tr>\n",
       "  </tbody>\n",
       "</table>\n",
       "</div>"
      ],
      "text/plain": [
       "      id                                             name  host_id host_name  \\\n",
       "0   3191                          Malleson Garden Cottage     3754  Brigitte   \n",
       "1  15007  Blaauwberg House on the beach in Bloubergstrand    59072      Dirk   \n",
       "2  15068                                       Grande Bay    59318     Linda   \n",
       "\n",
       "   neighbourhood_group neighbourhood  latitude  longitude        room_type  \\\n",
       "0                  NaN       Ward 57 -33.94762   18.47599  Entire home/apt   \n",
       "1                  NaN       Ward 23 -33.80001   18.46063  Entire home/apt   \n",
       "2                  NaN       Ward 23 -33.78826   18.45940  Entire home/apt   \n",
       "\n",
       "    price  minimum_nights  number_of_reviews last_review  reviews_per_month  \\\n",
       "0   783.0               3                 79  2024-06-18               0.56   \n",
       "1  6550.0               2                 47  2024-10-19               0.35   \n",
       "2  3000.0               4                  0         NaN                NaN   \n",
       "\n",
       "   calculated_host_listings_count  availability_365  number_of_reviews_ltm  \\\n",
       "0                               1                11                      4   \n",
       "1                               3                46                      2   \n",
       "2                               6               356                      0   \n",
       "\n",
       "  license  \n",
       "0     NaN  \n",
       "1     NaN  \n",
       "2     NaN  "
      ]
     },
     "execution_count": 140,
     "metadata": {},
     "output_type": "execute_result"
    }
   ],
   "source": [
    "houses.head(3)"
   ]
  },
  {
   "cell_type": "code",
   "execution_count": 141,
   "metadata": {},
   "outputs": [
    {
     "data": {
      "text/html": [
       "<div>\n",
       "<style scoped>\n",
       "    .dataframe tbody tr th:only-of-type {\n",
       "        vertical-align: middle;\n",
       "    }\n",
       "\n",
       "    .dataframe tbody tr th {\n",
       "        vertical-align: top;\n",
       "    }\n",
       "\n",
       "    .dataframe thead th {\n",
       "        text-align: right;\n",
       "    }\n",
       "</style>\n",
       "<table border=\"1\" class=\"dataframe\">\n",
       "  <thead>\n",
       "    <tr style=\"text-align: right;\">\n",
       "      <th></th>\n",
       "      <th>id</th>\n",
       "      <th>host_id</th>\n",
       "      <th>neighbourhood_group</th>\n",
       "      <th>latitude</th>\n",
       "      <th>longitude</th>\n",
       "      <th>price</th>\n",
       "      <th>minimum_nights</th>\n",
       "      <th>number_of_reviews</th>\n",
       "      <th>reviews_per_month</th>\n",
       "      <th>calculated_host_listings_count</th>\n",
       "      <th>availability_365</th>\n",
       "      <th>number_of_reviews_ltm</th>\n",
       "    </tr>\n",
       "  </thead>\n",
       "  <tbody>\n",
       "    <tr>\n",
       "      <th>count</th>\n",
       "      <td>2.581600e+04</td>\n",
       "      <td>2.581600e+04</td>\n",
       "      <td>0.0</td>\n",
       "      <td>25816.000000</td>\n",
       "      <td>25816.000000</td>\n",
       "      <td>21510.000000</td>\n",
       "      <td>25816.000000</td>\n",
       "      <td>25816.000000</td>\n",
       "      <td>19458.000000</td>\n",
       "      <td>25816.000000</td>\n",
       "      <td>25816.000000</td>\n",
       "      <td>25816.000000</td>\n",
       "    </tr>\n",
       "    <tr>\n",
       "      <th>mean</th>\n",
       "      <td>5.871331e+17</td>\n",
       "      <td>2.040918e+08</td>\n",
       "      <td>NaN</td>\n",
       "      <td>-33.955590</td>\n",
       "      <td>18.472027</td>\n",
       "      <td>4404.111018</td>\n",
       "      <td>4.396266</td>\n",
       "      <td>23.116478</td>\n",
       "      <td>0.932417</td>\n",
       "      <td>12.844670</td>\n",
       "      <td>200.388325</td>\n",
       "      <td>6.119654</td>\n",
       "    </tr>\n",
       "    <tr>\n",
       "      <th>std</th>\n",
       "      <td>5.316011e+17</td>\n",
       "      <td>2.000484e+08</td>\n",
       "      <td>NaN</td>\n",
       "      <td>0.098417</td>\n",
       "      <td>0.124090</td>\n",
       "      <td>9540.179791</td>\n",
       "      <td>20.776909</td>\n",
       "      <td>46.209194</td>\n",
       "      <td>1.091803</td>\n",
       "      <td>28.473072</td>\n",
       "      <td>129.645580</td>\n",
       "      <td>10.544251</td>\n",
       "    </tr>\n",
       "    <tr>\n",
       "      <th>min</th>\n",
       "      <td>3.191000e+03</td>\n",
       "      <td>3.754000e+03</td>\n",
       "      <td>NaN</td>\n",
       "      <td>-34.262840</td>\n",
       "      <td>18.318968</td>\n",
       "      <td>144.000000</td>\n",
       "      <td>1.000000</td>\n",
       "      <td>0.000000</td>\n",
       "      <td>0.010000</td>\n",
       "      <td>1.000000</td>\n",
       "      <td>0.000000</td>\n",
       "      <td>0.000000</td>\n",
       "    </tr>\n",
       "    <tr>\n",
       "      <th>25%</th>\n",
       "      <td>3.258190e+07</td>\n",
       "      <td>3.491403e+07</td>\n",
       "      <td>NaN</td>\n",
       "      <td>-34.014930</td>\n",
       "      <td>18.400966</td>\n",
       "      <td>1200.000000</td>\n",
       "      <td>1.000000</td>\n",
       "      <td>1.000000</td>\n",
       "      <td>0.180000</td>\n",
       "      <td>1.000000</td>\n",
       "      <td>75.000000</td>\n",
       "      <td>0.000000</td>\n",
       "    </tr>\n",
       "    <tr>\n",
       "      <th>50%</th>\n",
       "      <td>7.337961e+17</td>\n",
       "      <td>1.160514e+08</td>\n",
       "      <td>NaN</td>\n",
       "      <td>-33.927548</td>\n",
       "      <td>18.425413</td>\n",
       "      <td>2129.000000</td>\n",
       "      <td>2.000000</td>\n",
       "      <td>5.000000</td>\n",
       "      <td>0.570000</td>\n",
       "      <td>2.000000</td>\n",
       "      <td>238.000000</td>\n",
       "      <td>2.000000</td>\n",
       "    </tr>\n",
       "    <tr>\n",
       "      <th>75%</th>\n",
       "      <td>1.086186e+18</td>\n",
       "      <td>3.707272e+08</td>\n",
       "      <td>NaN</td>\n",
       "      <td>-33.910028</td>\n",
       "      <td>18.482063</td>\n",
       "      <td>4071.000000</td>\n",
       "      <td>3.000000</td>\n",
       "      <td>24.000000</td>\n",
       "      <td>1.260000</td>\n",
       "      <td>8.000000</td>\n",
       "      <td>320.000000</td>\n",
       "      <td>8.000000</td>\n",
       "    </tr>\n",
       "    <tr>\n",
       "      <th>max</th>\n",
       "      <td>1.320402e+18</td>\n",
       "      <td>6.688190e+08</td>\n",
       "      <td>NaN</td>\n",
       "      <td>-33.572180</td>\n",
       "      <td>18.936030</td>\n",
       "      <td>273736.000000</td>\n",
       "      <td>999.000000</td>\n",
       "      <td>798.000000</td>\n",
       "      <td>22.650000</td>\n",
       "      <td>175.000000</td>\n",
       "      <td>365.000000</td>\n",
       "      <td>154.000000</td>\n",
       "    </tr>\n",
       "  </tbody>\n",
       "</table>\n",
       "</div>"
      ],
      "text/plain": [
       "                 id       host_id  neighbourhood_group      latitude  \\\n",
       "count  2.581600e+04  2.581600e+04                  0.0  25816.000000   \n",
       "mean   5.871331e+17  2.040918e+08                  NaN    -33.955590   \n",
       "std    5.316011e+17  2.000484e+08                  NaN      0.098417   \n",
       "min    3.191000e+03  3.754000e+03                  NaN    -34.262840   \n",
       "25%    3.258190e+07  3.491403e+07                  NaN    -34.014930   \n",
       "50%    7.337961e+17  1.160514e+08                  NaN    -33.927548   \n",
       "75%    1.086186e+18  3.707272e+08                  NaN    -33.910028   \n",
       "max    1.320402e+18  6.688190e+08                  NaN    -33.572180   \n",
       "\n",
       "          longitude          price  minimum_nights  number_of_reviews  \\\n",
       "count  25816.000000   21510.000000    25816.000000       25816.000000   \n",
       "mean      18.472027    4404.111018        4.396266          23.116478   \n",
       "std        0.124090    9540.179791       20.776909          46.209194   \n",
       "min       18.318968     144.000000        1.000000           0.000000   \n",
       "25%       18.400966    1200.000000        1.000000           1.000000   \n",
       "50%       18.425413    2129.000000        2.000000           5.000000   \n",
       "75%       18.482063    4071.000000        3.000000          24.000000   \n",
       "max       18.936030  273736.000000      999.000000         798.000000   \n",
       "\n",
       "       reviews_per_month  calculated_host_listings_count  availability_365  \\\n",
       "count       19458.000000                    25816.000000      25816.000000   \n",
       "mean            0.932417                       12.844670        200.388325   \n",
       "std             1.091803                       28.473072        129.645580   \n",
       "min             0.010000                        1.000000          0.000000   \n",
       "25%             0.180000                        1.000000         75.000000   \n",
       "50%             0.570000                        2.000000        238.000000   \n",
       "75%             1.260000                        8.000000        320.000000   \n",
       "max            22.650000                      175.000000        365.000000   \n",
       "\n",
       "       number_of_reviews_ltm  \n",
       "count           25816.000000  \n",
       "mean                6.119654  \n",
       "std                10.544251  \n",
       "min                 0.000000  \n",
       "25%                 0.000000  \n",
       "50%                 2.000000  \n",
       "75%                 8.000000  \n",
       "max               154.000000  "
      ]
     },
     "execution_count": 141,
     "metadata": {},
     "output_type": "execute_result"
    }
   ],
   "source": [
    "#Describe the dataset\n",
    "houses.describe()"
   ]
  },
  {
   "cell_type": "code",
   "execution_count": 142,
   "metadata": {},
   "outputs": [
    {
     "name": "stdout",
     "output_type": "stream",
     "text": [
      "<class 'pandas.core.frame.DataFrame'>\n",
      "RangeIndex: 25816 entries, 0 to 25815\n",
      "Data columns (total 18 columns):\n",
      " #   Column                          Non-Null Count  Dtype  \n",
      "---  ------                          --------------  -----  \n",
      " 0   id                              25816 non-null  int64  \n",
      " 1   name                            25815 non-null  object \n",
      " 2   host_id                         25816 non-null  int64  \n",
      " 3   host_name                       25745 non-null  object \n",
      " 4   neighbourhood_group             0 non-null      float64\n",
      " 5   neighbourhood                   25816 non-null  object \n",
      " 6   latitude                        25816 non-null  float64\n",
      " 7   longitude                       25816 non-null  float64\n",
      " 8   room_type                       25816 non-null  object \n",
      " 9   price                           21510 non-null  float64\n",
      " 10  minimum_nights                  25816 non-null  int64  \n",
      " 11  number_of_reviews               25816 non-null  int64  \n",
      " 12  last_review                     19458 non-null  object \n",
      " 13  reviews_per_month               19458 non-null  float64\n",
      " 14  calculated_host_listings_count  25816 non-null  int64  \n",
      " 15  availability_365                25816 non-null  int64  \n",
      " 16  number_of_reviews_ltm           25816 non-null  int64  \n",
      " 17  license                         84 non-null     object \n",
      "dtypes: float64(5), int64(7), object(6)\n",
      "memory usage: 3.5+ MB\n"
     ]
    }
   ],
   "source": [
    "#info about the dataset\n",
    "houses.info()"
   ]
  },
  {
   "cell_type": "markdown",
   "metadata": {},
   "source": [
    "From the output displayed above, a few observations can be made :\n",
    "\n",
    "1. There are 18 columns in this dataset\n",
    "2. They include both integers and objects(numbers and strings)\n",
    "3. Some columns have null values - further exploarion will be done to determine the best approach to handle the null values\n"
   ]
  },
  {
   "cell_type": "markdown",
   "metadata": {},
   "source": [
    "#### Check for missing values"
   ]
  },
  {
   "cell_type": "code",
   "execution_count": 143,
   "metadata": {},
   "outputs": [
    {
     "data": {
      "text/plain": [
       "id                                  0.000000\n",
       "name                                0.003874\n",
       "host_id                             0.000000\n",
       "host_name                           0.275023\n",
       "neighbourhood_group               100.000000\n",
       "neighbourhood                       0.000000\n",
       "latitude                            0.000000\n",
       "longitude                           0.000000\n",
       "room_type                           0.000000\n",
       "price                              16.679579\n",
       "minimum_nights                      0.000000\n",
       "number_of_reviews                   0.000000\n",
       "last_review                        24.628138\n",
       "reviews_per_month                  24.628138\n",
       "calculated_host_listings_count      0.000000\n",
       "availability_365                    0.000000\n",
       "number_of_reviews_ltm               0.000000\n",
       "license                            99.674620\n",
       "dtype: float64"
      ]
     },
     "execution_count": 143,
     "metadata": {},
     "output_type": "execute_result"
    }
   ],
   "source": [
    "#check for missing values in percentages\n",
    "houses.isnull().sum()/len(houses)*100"
   ]
  },
  {
   "cell_type": "markdown",
   "metadata": {},
   "source": [
    "The output above shows the percentages of the columns with missing values. \n",
    "1. All the rows in the neighbourhood_group column have null values\n",
    "2. The Name column has some few missing values in the column ~ 0.03\n",
    "3. Host name column has 27% of the rows with missing values\n",
    "4. Price has 16% of its rows with missing values\n",
    "5. Last review and reviews_per_month  columns have ~25% null values in their rows\n",
    "6. The last column has nearly 99% of it rows with missing values\n",
    "\n",
    "For columns that have missing values with more than 50% of their values missing will be dropped.\n",
    "The columns whose missing values are below @5% will be imputed with either the mean, median or mode\n",
    "and those with less thab 10%, their rows will be dropped as this will not affect the dataset \n",
    "\n",
    "\n"
   ]
  },
  {
   "cell_type": "code",
   "execution_count": 144,
   "metadata": {},
   "outputs": [],
   "source": [
    "#drop column neighbourhood_group\n",
    "houses.drop(columns=\"neighbourhood_group\", inplace=True)\n"
   ]
  },
  {
   "cell_type": "code",
   "execution_count": 145,
   "metadata": {},
   "outputs": [
    {
     "data": {
      "text/plain": [
       "Index(['id', 'name', 'host_id', 'host_name', 'neighbourhood', 'latitude',\n",
       "       'longitude', 'room_type', 'price', 'minimum_nights',\n",
       "       'number_of_reviews', 'last_review', 'reviews_per_month',\n",
       "       'calculated_host_listings_count', 'availability_365',\n",
       "       'number_of_reviews_ltm', 'license'],\n",
       "      dtype='object')"
      ]
     },
     "execution_count": 145,
     "metadata": {},
     "output_type": "execute_result"
    }
   ],
   "source": [
    "houses.columns"
   ]
  },
  {
   "cell_type": "code",
   "execution_count": 146,
   "metadata": {},
   "outputs": [],
   "source": [
    "#drop the license column \n",
    "houses.drop(columns=\"license\", inplace=True)"
   ]
  },
  {
   "cell_type": "code",
   "execution_count": 147,
   "metadata": {},
   "outputs": [
    {
     "data": {
      "text/plain": [
       "Index(['name', 'host_name', 'price', 'last_review', 'reviews_per_month'], dtype='object')"
      ]
     },
     "execution_count": 147,
     "metadata": {},
     "output_type": "execute_result"
    }
   ],
   "source": [
    "#check for the columns with missing values but less than 10%\n",
    "houses.columns[houses.isnull().sum() > 0 ]\n"
   ]
  },
  {
   "cell_type": "code",
   "execution_count": 152,
   "metadata": {},
   "outputs": [],
   "source": [
    "#Drop the rows in the name column  and host_name with missing values\n",
    "houses = houses.dropna(subset=[\"name\", \"host_name\"])\n",
    "\n"
   ]
  },
  {
   "cell_type": "code",
   "execution_count": 156,
   "metadata": {},
   "outputs": [
    {
     "data": {
      "text/plain": [
       "0"
      ]
     },
     "execution_count": 156,
     "metadata": {},
     "output_type": "execute_result"
    }
   ],
   "source": [
    "#check the name column for missing values\n",
    "houses[\"name\"].isnull().sum()"
   ]
  },
  {
   "cell_type": "code",
   "execution_count": 157,
   "metadata": {},
   "outputs": [
    {
     "data": {
      "text/plain": [
       "id                                 0.000000\n",
       "name                               0.000000\n",
       "host_id                            0.000000\n",
       "host_name                          0.000000\n",
       "neighbourhood                      0.000000\n",
       "latitude                           0.000000\n",
       "longitude                          0.000000\n",
       "room_type                          0.000000\n",
       "price                             16.722343\n",
       "minimum_nights                     0.000000\n",
       "number_of_reviews                  0.000000\n",
       "last_review                       24.662057\n",
       "reviews_per_month                 24.662057\n",
       "calculated_host_listings_count     0.000000\n",
       "availability_365                   0.000000\n",
       "number_of_reviews_ltm              0.000000\n",
       "dtype: float64"
      ]
     },
     "execution_count": 157,
     "metadata": {},
     "output_type": "execute_result"
    }
   ],
   "source": [
    "#check for missing values in percentages\n",
    "houses.isnull().sum()/len(houses)*100"
   ]
  },
  {
   "cell_type": "code",
   "execution_count": 158,
   "metadata": {},
   "outputs": [],
   "source": [
    "#fill the missing values in the reviews_per_month column with the mean\n",
    "houses[\"reviews_per_month\"].fillna(houses[\"reviews_per_month\"].mean(), inplace=True)"
   ]
  },
  {
   "cell_type": "code",
   "execution_count": 159,
   "metadata": {},
   "outputs": [],
   "source": [
    "#fill the missing values in the price column with the median\n",
    "houses[\"price\"].fillna(houses[\"price\"].median(), inplace=True)"
   ]
  },
  {
   "cell_type": "code",
   "execution_count": 160,
   "metadata": {},
   "outputs": [
    {
     "data": {
      "text/plain": [
       "id                                   0\n",
       "name                                 0\n",
       "host_id                              0\n",
       "host_name                            0\n",
       "neighbourhood                        0\n",
       "latitude                             0\n",
       "longitude                            0\n",
       "room_type                            0\n",
       "price                                0\n",
       "minimum_nights                       0\n",
       "number_of_reviews                    0\n",
       "last_review                       6349\n",
       "reviews_per_month                    0\n",
       "calculated_host_listings_count       0\n",
       "availability_365                     0\n",
       "number_of_reviews_ltm                0\n",
       "dtype: int64"
      ]
     },
     "execution_count": 160,
     "metadata": {},
     "output_type": "execute_result"
    }
   ],
   "source": [
    "#check for missing values\n",
    "houses.isnull().sum()"
   ]
  },
  {
   "cell_type": "markdown",
   "metadata": {},
   "source": [
    "On inspecting the last_review column, I identified that the values are dates, hence it is imperative to change the datatypes to a datetype datatype"
   ]
  },
  {
   "cell_type": "code",
   "execution_count": 161,
   "metadata": {},
   "outputs": [
    {
     "data": {
      "text/plain": [
       "dtype('<M8[ns]')"
      ]
     },
     "execution_count": 161,
     "metadata": {},
     "output_type": "execute_result"
    }
   ],
   "source": [
    "# convert the object datatype to datetime datatype\n",
    "houses[\"last_review\"] = pd.to_datetime(houses[\"last_review\"])\n",
    "houses[\"last_review\"].dtype"
   ]
  },
  {
   "cell_type": "code",
   "execution_count": 162,
   "metadata": {},
   "outputs": [
    {
     "data": {
      "text/html": [
       "<div>\n",
       "<style scoped>\n",
       "    .dataframe tbody tr th:only-of-type {\n",
       "        vertical-align: middle;\n",
       "    }\n",
       "\n",
       "    .dataframe tbody tr th {\n",
       "        vertical-align: top;\n",
       "    }\n",
       "\n",
       "    .dataframe thead th {\n",
       "        text-align: right;\n",
       "    }\n",
       "</style>\n",
       "<table border=\"1\" class=\"dataframe\">\n",
       "  <thead>\n",
       "    <tr style=\"text-align: right;\">\n",
       "      <th></th>\n",
       "      <th>id</th>\n",
       "      <th>name</th>\n",
       "      <th>host_id</th>\n",
       "      <th>host_name</th>\n",
       "      <th>neighbourhood</th>\n",
       "      <th>latitude</th>\n",
       "      <th>longitude</th>\n",
       "      <th>room_type</th>\n",
       "      <th>price</th>\n",
       "      <th>minimum_nights</th>\n",
       "      <th>number_of_reviews</th>\n",
       "      <th>last_review</th>\n",
       "      <th>reviews_per_month</th>\n",
       "      <th>calculated_host_listings_count</th>\n",
       "      <th>availability_365</th>\n",
       "      <th>number_of_reviews_ltm</th>\n",
       "    </tr>\n",
       "  </thead>\n",
       "  <tbody>\n",
       "    <tr>\n",
       "      <th>0</th>\n",
       "      <td>3191</td>\n",
       "      <td>Malleson Garden Cottage</td>\n",
       "      <td>3754</td>\n",
       "      <td>Brigitte</td>\n",
       "      <td>Ward 57</td>\n",
       "      <td>-33.94762</td>\n",
       "      <td>18.47599</td>\n",
       "      <td>Entire home/apt</td>\n",
       "      <td>783.0</td>\n",
       "      <td>3</td>\n",
       "      <td>79</td>\n",
       "      <td>2024-06-18</td>\n",
       "      <td>0.560000</td>\n",
       "      <td>1</td>\n",
       "      <td>11</td>\n",
       "      <td>4</td>\n",
       "    </tr>\n",
       "    <tr>\n",
       "      <th>1</th>\n",
       "      <td>15007</td>\n",
       "      <td>Blaauwberg House on the beach in Bloubergstrand</td>\n",
       "      <td>59072</td>\n",
       "      <td>Dirk</td>\n",
       "      <td>Ward 23</td>\n",
       "      <td>-33.80001</td>\n",
       "      <td>18.46063</td>\n",
       "      <td>Entire home/apt</td>\n",
       "      <td>6550.0</td>\n",
       "      <td>2</td>\n",
       "      <td>47</td>\n",
       "      <td>2024-10-19</td>\n",
       "      <td>0.350000</td>\n",
       "      <td>3</td>\n",
       "      <td>46</td>\n",
       "      <td>2</td>\n",
       "    </tr>\n",
       "    <tr>\n",
       "      <th>2</th>\n",
       "      <td>15068</td>\n",
       "      <td>Grande Bay</td>\n",
       "      <td>59318</td>\n",
       "      <td>Linda</td>\n",
       "      <td>Ward 23</td>\n",
       "      <td>-33.78826</td>\n",
       "      <td>18.45940</td>\n",
       "      <td>Entire home/apt</td>\n",
       "      <td>3000.0</td>\n",
       "      <td>4</td>\n",
       "      <td>0</td>\n",
       "      <td>NaT</td>\n",
       "      <td>0.929517</td>\n",
       "      <td>6</td>\n",
       "      <td>356</td>\n",
       "      <td>0</td>\n",
       "    </tr>\n",
       "  </tbody>\n",
       "</table>\n",
       "</div>"
      ],
      "text/plain": [
       "      id                                             name  host_id host_name  \\\n",
       "0   3191                          Malleson Garden Cottage     3754  Brigitte   \n",
       "1  15007  Blaauwberg House on the beach in Bloubergstrand    59072      Dirk   \n",
       "2  15068                                       Grande Bay    59318     Linda   \n",
       "\n",
       "  neighbourhood  latitude  longitude        room_type   price  minimum_nights  \\\n",
       "0       Ward 57 -33.94762   18.47599  Entire home/apt   783.0               3   \n",
       "1       Ward 23 -33.80001   18.46063  Entire home/apt  6550.0               2   \n",
       "2       Ward 23 -33.78826   18.45940  Entire home/apt  3000.0               4   \n",
       "\n",
       "   number_of_reviews last_review  reviews_per_month  \\\n",
       "0                 79  2024-06-18           0.560000   \n",
       "1                 47  2024-10-19           0.350000   \n",
       "2                  0         NaT           0.929517   \n",
       "\n",
       "   calculated_host_listings_count  availability_365  number_of_reviews_ltm  \n",
       "0                               1                11                      4  \n",
       "1                               3                46                      2  \n",
       "2                               6               356                      0  "
      ]
     },
     "execution_count": 162,
     "metadata": {},
     "output_type": "execute_result"
    }
   ],
   "source": [
    "houses.head(3)"
   ]
  },
  {
   "cell_type": "markdown",
   "metadata": {},
   "source": [
    "The necessary column have been successfully converted:\n",
    "\n",
    "- The **last_review** column has been changed from an `object` to a `datetime` data type.\n",
    "\n",
    "#### Outcome:\n",
    "- **last_review**: Now properly recognized as a `datetime` type, enabling date-based analysis and operations."
   ]
  },
  {
   "cell_type": "code",
   "execution_count": 168,
   "metadata": {},
   "outputs": [
    {
     "data": {
      "text/html": [
       "<div>\n",
       "<style scoped>\n",
       "    .dataframe tbody tr th:only-of-type {\n",
       "        vertical-align: middle;\n",
       "    }\n",
       "\n",
       "    .dataframe tbody tr th {\n",
       "        vertical-align: top;\n",
       "    }\n",
       "\n",
       "    .dataframe thead th {\n",
       "        text-align: right;\n",
       "    }\n",
       "</style>\n",
       "<table border=\"1\" class=\"dataframe\">\n",
       "  <thead>\n",
       "    <tr style=\"text-align: right;\">\n",
       "      <th></th>\n",
       "      <th>id</th>\n",
       "      <th>host_id</th>\n",
       "      <th>latitude</th>\n",
       "      <th>longitude</th>\n",
       "      <th>price</th>\n",
       "      <th>minimum_nights</th>\n",
       "      <th>number_of_reviews</th>\n",
       "      <th>last_review</th>\n",
       "      <th>reviews_per_month</th>\n",
       "      <th>calculated_host_listings_count</th>\n",
       "      <th>availability_365</th>\n",
       "      <th>number_of_reviews_ltm</th>\n",
       "    </tr>\n",
       "  </thead>\n",
       "  <tbody>\n",
       "    <tr>\n",
       "      <th>count</th>\n",
       "      <td>2.574400e+04</td>\n",
       "      <td>2.574400e+04</td>\n",
       "      <td>25744.000000</td>\n",
       "      <td>25744.000000</td>\n",
       "      <td>25744.000000</td>\n",
       "      <td>25744.000000</td>\n",
       "      <td>25744.000000</td>\n",
       "      <td>19395</td>\n",
       "      <td>25744.000000</td>\n",
       "      <td>25744.000000</td>\n",
       "      <td>25744.000000</td>\n",
       "      <td>25744.000000</td>\n",
       "    </tr>\n",
       "    <tr>\n",
       "      <th>mean</th>\n",
       "      <td>5.871181e+17</td>\n",
       "      <td>2.046003e+08</td>\n",
       "      <td>-33.955664</td>\n",
       "      <td>18.472204</td>\n",
       "      <td>4020.521481</td>\n",
       "      <td>4.400598</td>\n",
       "      <td>23.027152</td>\n",
       "      <td>2024-03-28 19:30:24.779582464</td>\n",
       "      <td>0.929517</td>\n",
       "      <td>12.720012</td>\n",
       "      <td>200.242115</td>\n",
       "      <td>6.096683</td>\n",
       "    </tr>\n",
       "    <tr>\n",
       "      <th>min</th>\n",
       "      <td>3.191000e+03</td>\n",
       "      <td>3.754000e+03</td>\n",
       "      <td>-34.262840</td>\n",
       "      <td>18.318968</td>\n",
       "      <td>144.000000</td>\n",
       "      <td>1.000000</td>\n",
       "      <td>0.000000</td>\n",
       "      <td>2014-11-17 00:00:00</td>\n",
       "      <td>0.010000</td>\n",
       "      <td>1.000000</td>\n",
       "      <td>0.000000</td>\n",
       "      <td>0.000000</td>\n",
       "    </tr>\n",
       "    <tr>\n",
       "      <th>25%</th>\n",
       "      <td>3.258016e+07</td>\n",
       "      <td>3.551456e+07</td>\n",
       "      <td>-34.015152</td>\n",
       "      <td>18.400970</td>\n",
       "      <td>1380.000000</td>\n",
       "      <td>1.000000</td>\n",
       "      <td>1.000000</td>\n",
       "      <td>2024-02-12 00:00:00</td>\n",
       "      <td>0.280000</td>\n",
       "      <td>1.000000</td>\n",
       "      <td>75.000000</td>\n",
       "      <td>0.000000</td>\n",
       "    </tr>\n",
       "    <tr>\n",
       "      <th>50%</th>\n",
       "      <td>7.340684e+17</td>\n",
       "      <td>1.166616e+08</td>\n",
       "      <td>-33.927607</td>\n",
       "      <td>18.425582</td>\n",
       "      <td>2119.000000</td>\n",
       "      <td>2.000000</td>\n",
       "      <td>5.000000</td>\n",
       "      <td>2024-11-04 00:00:00</td>\n",
       "      <td>0.929517</td>\n",
       "      <td>2.000000</td>\n",
       "      <td>238.000000</td>\n",
       "      <td>2.000000</td>\n",
       "    </tr>\n",
       "    <tr>\n",
       "      <th>75%</th>\n",
       "      <td>1.086201e+18</td>\n",
       "      <td>3.717659e+08</td>\n",
       "      <td>-33.910020</td>\n",
       "      <td>18.482248</td>\n",
       "      <td>3500.000000</td>\n",
       "      <td>3.000000</td>\n",
       "      <td>24.000000</td>\n",
       "      <td>2024-12-11 00:00:00</td>\n",
       "      <td>1.000000</td>\n",
       "      <td>8.000000</td>\n",
       "      <td>320.000000</td>\n",
       "      <td>8.000000</td>\n",
       "    </tr>\n",
       "    <tr>\n",
       "      <th>max</th>\n",
       "      <td>1.320402e+18</td>\n",
       "      <td>6.688190e+08</td>\n",
       "      <td>-33.572180</td>\n",
       "      <td>18.936030</td>\n",
       "      <td>273736.000000</td>\n",
       "      <td>999.000000</td>\n",
       "      <td>798.000000</td>\n",
       "      <td>2024-12-28 00:00:00</td>\n",
       "      <td>22.650000</td>\n",
       "      <td>175.000000</td>\n",
       "      <td>365.000000</td>\n",
       "      <td>154.000000</td>\n",
       "    </tr>\n",
       "    <tr>\n",
       "      <th>std</th>\n",
       "      <td>5.315854e+17</td>\n",
       "      <td>2.000841e+08</td>\n",
       "      <td>0.098525</td>\n",
       "      <td>0.124214</td>\n",
       "      <td>8759.278863</td>\n",
       "      <td>20.805062</td>\n",
       "      <td>46.164414</td>\n",
       "      <td>NaN</td>\n",
       "      <td>0.946912</td>\n",
       "      <td>28.397889</td>\n",
       "      <td>129.684521</td>\n",
       "      <td>10.532596</td>\n",
       "    </tr>\n",
       "  </tbody>\n",
       "</table>\n",
       "</div>"
      ],
      "text/plain": [
       "                 id       host_id      latitude     longitude          price  \\\n",
       "count  2.574400e+04  2.574400e+04  25744.000000  25744.000000   25744.000000   \n",
       "mean   5.871181e+17  2.046003e+08    -33.955664     18.472204    4020.521481   \n",
       "min    3.191000e+03  3.754000e+03    -34.262840     18.318968     144.000000   \n",
       "25%    3.258016e+07  3.551456e+07    -34.015152     18.400970    1380.000000   \n",
       "50%    7.340684e+17  1.166616e+08    -33.927607     18.425582    2119.000000   \n",
       "75%    1.086201e+18  3.717659e+08    -33.910020     18.482248    3500.000000   \n",
       "max    1.320402e+18  6.688190e+08    -33.572180     18.936030  273736.000000   \n",
       "std    5.315854e+17  2.000841e+08      0.098525      0.124214    8759.278863   \n",
       "\n",
       "       minimum_nights  number_of_reviews                    last_review  \\\n",
       "count    25744.000000       25744.000000                          19395   \n",
       "mean         4.400598          23.027152  2024-03-28 19:30:24.779582464   \n",
       "min          1.000000           0.000000            2014-11-17 00:00:00   \n",
       "25%          1.000000           1.000000            2024-02-12 00:00:00   \n",
       "50%          2.000000           5.000000            2024-11-04 00:00:00   \n",
       "75%          3.000000          24.000000            2024-12-11 00:00:00   \n",
       "max        999.000000         798.000000            2024-12-28 00:00:00   \n",
       "std         20.805062          46.164414                            NaN   \n",
       "\n",
       "       reviews_per_month  calculated_host_listings_count  availability_365  \\\n",
       "count       25744.000000                    25744.000000      25744.000000   \n",
       "mean            0.929517                       12.720012        200.242115   \n",
       "min             0.010000                        1.000000          0.000000   \n",
       "25%             0.280000                        1.000000         75.000000   \n",
       "50%             0.929517                        2.000000        238.000000   \n",
       "75%             1.000000                        8.000000        320.000000   \n",
       "max            22.650000                      175.000000        365.000000   \n",
       "std             0.946912                       28.397889        129.684521   \n",
       "\n",
       "       number_of_reviews_ltm  \n",
       "count           25744.000000  \n",
       "mean                6.096683  \n",
       "min                 0.000000  \n",
       "25%                 0.000000  \n",
       "50%                 2.000000  \n",
       "75%                 8.000000  \n",
       "max               154.000000  \n",
       "std                10.532596  "
      ]
     },
     "execution_count": 168,
     "metadata": {},
     "output_type": "execute_result"
    }
   ],
   "source": [
    "houses.describe()"
   ]
  },
  {
   "cell_type": "code",
   "execution_count": 163,
   "metadata": {},
   "outputs": [
    {
     "data": {
      "text/plain": [
       "0"
      ]
     },
     "execution_count": 163,
     "metadata": {},
     "output_type": "execute_result"
    }
   ],
   "source": [
    "#check for duplicate values\n",
    "houses.duplicated().sum()"
   ]
  },
  {
   "cell_type": "markdown",
   "metadata": {},
   "source": [
    "For the **last_review** column I will impute with statistical methods - the mode. \n"
   ]
  },
  {
   "cell_type": "code",
   "execution_count": 169,
   "metadata": {},
   "outputs": [],
   "source": [
    "mode_date = houses['last_review'].mode()\n",
    "houses['last_review'].fillna(mode_date, inplace=True)"
   ]
  },
  {
   "cell_type": "markdown",
   "metadata": {},
   "source": [
    "There are no duplicate values in this dataset\n"
   ]
  },
  {
   "cell_type": "code",
   "execution_count": 170,
   "metadata": {},
   "outputs": [
    {
     "data": {
      "text/plain": [
       "id                                25744\n",
       "name                              24945\n",
       "host_id                           13615\n",
       "host_name                          5398\n",
       "neighbourhood                        84\n",
       "latitude                          18797\n",
       "longitude                         18234\n",
       "room_type                             4\n",
       "price                              5139\n",
       "minimum_nights                       58\n",
       "number_of_reviews                   366\n",
       "last_review                        1557\n",
       "reviews_per_month                   604\n",
       "calculated_host_listings_count       65\n",
       "availability_365                    366\n",
       "number_of_reviews_ltm               101\n",
       "dtype: int64"
      ]
     },
     "execution_count": 170,
     "metadata": {},
     "output_type": "execute_result"
    }
   ],
   "source": [
    "#check for the unique values\n",
    "houses.nunique()"
   ]
  },
  {
   "cell_type": "code",
   "execution_count": 167,
   "metadata": {},
   "outputs": [
    {
     "data": {
      "image/png": "[encoded data removed]",
      "text/plain": [
       "<Figure size 1080x1440 with 11 Axes>"
      ]
     },
     "metadata": {
      "needs_background": "light"
     },
     "output_type": "display_data"
    }
   ],
   "source": [
    "#check for outliers\n",
    "import matplotlib.pyplot as plt\n",
    "import seaborn as sns\n",
    "\n",
    "# Set the size of the plots\n",
    "plt.figure(figsize=(15, 20))\n",
    "\n",
    "# Loop through each numerical column and create a box plot\n",
    "for i, column in enumerate(houses.select_dtypes(include=['float64', 'int64']).columns, 1):\n",
    "    plt.subplot(len(houses.columns) // 3 + 1, 3, i)\n",
    "    sns.boxplot(x=houses[column])\n",
    "    plt.title(f'Box plot of {column}')\n",
    "    plt.tight_layout()\n",
    "\n",
    "plt.show()"
   ]
  },
  {
   "cell_type": "markdown",
   "metadata": {},
   "source": [
    "From the box plots above many of the features have outliers, but intuitively choose to keep them to see how the model will perform with the outliers first, before proceeding to remove them"
   ]
  },
  {
   "cell_type": "markdown",
   "metadata": {},
   "source": [
    "## Exploratory Data Analysis"
   ]
  },
  {
   "cell_type": "markdown",
   "metadata": {},
   "source": [
    "### Univariate Analysis"
   ]
  },
  {
   "cell_type": "code",
   "execution_count": 174,
   "metadata": {},
   "outputs": [
    {
     "name": "stdout",
     "output_type": "stream",
     "text": [
      "                 id       host_id      latitude     longitude          price  \\\n",
      "count  2.574400e+04  2.574400e+04  25744.000000  25744.000000   25744.000000   \n",
      "mean   5.871181e+17  2.046003e+08    -33.955664     18.472204    4020.521481   \n",
      "min    3.191000e+03  3.754000e+03    -34.262840     18.318968     144.000000   \n",
      "25%    3.258016e+07  3.551456e+07    -34.015152     18.400970    1380.000000   \n",
      "50%    7.340684e+17  1.166616e+08    -33.927607     18.425582    2119.000000   \n",
      "75%    1.086201e+18  3.717659e+08    -33.910020     18.482248    3500.000000   \n",
      "max    1.320402e+18  6.688190e+08    -33.572180     18.936030  273736.000000   \n",
      "std    5.315854e+17  2.000841e+08      0.098525      0.124214    8759.278863   \n",
      "\n",
      "       minimum_nights  number_of_reviews                    last_review  \\\n",
      "count    25744.000000       25744.000000                          19395   \n",
      "mean         4.400598          23.027152  2024-03-28 19:30:24.779582464   \n",
      "min          1.000000           0.000000            2014-11-17 00:00:00   \n",
      "25%          1.000000           1.000000            2024-02-12 00:00:00   \n",
      "50%          2.000000           5.000000            2024-11-04 00:00:00   \n",
      "75%          3.000000          24.000000            2024-12-11 00:00:00   \n",
      "max        999.000000         798.000000            2024-12-28 00:00:00   \n",
      "std         20.805062          46.164414                            NaN   \n",
      "\n",
      "       reviews_per_month  calculated_host_listings_count  availability_365  \\\n",
      "count       25744.000000                    25744.000000      25744.000000   \n",
      "mean            0.929517                       12.720012        200.242115   \n",
      "min             0.010000                        1.000000          0.000000   \n",
      "25%             0.280000                        1.000000         75.000000   \n",
      "50%             0.929517                        2.000000        238.000000   \n",
      "75%             1.000000                        8.000000        320.000000   \n",
      "max            22.650000                      175.000000        365.000000   \n",
      "std             0.946912                       28.397889        129.684521   \n",
      "\n",
      "       number_of_reviews_ltm  \n",
      "count           25744.000000  \n",
      "mean                6.096683  \n",
      "min                 0.000000  \n",
      "25%                 0.000000  \n",
      "50%                 2.000000  \n",
      "75%                 8.000000  \n",
      "max               154.000000  \n",
      "std                10.532596  \n",
      "\n",
      "name:\n",
      "name\n",
      "Groovy Giraffe                                        95\n",
      "Elephant's Playground                                 51\n",
      "Trendy Sea Point Micro - Prime Location               27\n",
      "Home away from home                                   20\n",
      "Stunning Sea Point Studio Apt: Pool & Ocean Escape    10\n",
      "                                                      ..\n",
      "Penthouse with magnificent views - fibre internet      1\n",
      "Exclusive Monkey Rock Dolphin and Whale Outlook        1\n",
      "Nais home entire apartment . Tableview                 1\n",
      "Wake up to the sounds, views & smell of the ocean      1\n",
      "Lovely centrally located bedroom                       1\n",
      "Name: count, Length: 24945, dtype: int64\n",
      "\n",
      "host_name:\n",
      "host_name\n",
      "Bianca                    395\n",
      "Propr                     386\n",
      "Chregan                   305\n",
      "Host Agents               204\n",
      "Belinda                   198\n",
      "                         ... \n",
      "Nicholas E                  1\n",
      "Jarrad                      1\n",
      "Stephanie Laura Verity      1\n",
      "Claydon                     1\n",
      "Marjolein                   1\n",
      "Name: count, Length: 5398, dtype: int64\n",
      "\n",
      "neighbourhood:\n",
      "neighbourhood\n",
      "Ward 115    5470\n",
      "Ward 54     3857\n",
      "Ward 77     1629\n",
      "Ward 23     1425\n",
      "Ward 74     1168\n",
      "            ... \n",
      "Ward 78        2\n",
      "Ward 50        1\n",
      "Ward 29        1\n",
      "Ward 45        1\n",
      "Ward 89        1\n",
      "Name: count, Length: 84, dtype: int64\n",
      "\n",
      "room_type:\n",
      "room_type\n",
      "Entire home/apt    21234\n",
      "Private room        4366\n",
      "Hotel room           127\n",
      "Shared room           17\n",
      "Name: count, dtype: int64\n"
     ]
    }
   ],
   "source": [
    "# Summary statistics for numeric features\n",
    "summary_stats = houses.describe()\n",
    "print(summary_stats)\n",
    "\n",
    "# Summary statistics for categorical features\n",
    "categorical_features = [feature for feature in houses.columns if houses[feature].dtype == 'object']\n",
    "for feature in categorical_features:\n",
    "    print(f\"\\n{feature}:\\n{houses[feature].value_counts()}\")\n",
    "\n"
   ]
  },
  {
   "cell_type": "code",
   "execution_count": 175,
   "metadata": {},
   "outputs": [
    {
     "data": {
      "text/plain": [
       "Index(['id', 'host_id', 'latitude', 'longitude', 'price', 'minimum_nights',\n",
       "       'number_of_reviews', 'reviews_per_month',\n",
       "       'calculated_host_listings_count', 'availability_365',\n",
       "       'number_of_reviews_ltm'],\n",
       "      dtype='object')"
      ]
     },
     "execution_count": 175,
     "metadata": {},
     "output_type": "execute_result"
    }
   ],
   "source": [
    "#columns with datatype numeric\n",
    "numeric_columns = houses.select_dtypes(include=['float64', 'int64']).columns\n",
    "numeric_columns"
   ]
  },
  {
   "cell_type": "markdown",
   "metadata": {},
   "source": [
    "### Visualize the numerical features"
   ]
  },
  {
   "cell_type": "code",
   "execution_count": 176,
   "metadata": {},
   "outputs": [
    {
     "data": {
      "image/png": "[encoded data removed]",
      "text/plain": [
       "<Figure size 720x432 with 1 Axes>"
      ]
     },
     "metadata": {
      "needs_background": "light"
     },
     "output_type": "display_data"
    }
   ],
   "source": [
    "#price column distribution \n",
    "plt.figure(figsize=(10, 6))\n",
    "sns.histplot(houses['price'], kde=True,bins=50, color='blue')\n",
    "plt.title('Price distribution')\n",
    "plt.show()\n"
   ]
  },
  {
   "cell_type": "code",
   "execution_count": 177,
   "metadata": {},
   "outputs": [
    {
     "data": {
      "image/png": "[encoded data removed]",
      "text/plain": [
       "<Figure size 720x432 with 1 Axes>"
      ]
     },
     "metadata": {
      "needs_background": "light"
     },
     "output_type": "display_data"
    }
   ],
   "source": [
    "#minimum nights \n",
    "plt.figure(figsize=(10, 6))\n",
    "sns.histplot(houses['minimum_nights'], kde=True,bins=50, color='blue')\n",
    "plt.title('Minimum nights distribution')\n",
    "plt.show()\n"
   ]
  },
  {
   "cell_type": "code",
   "execution_count": 178,
   "metadata": {},
   "outputs": [
    {
     "data": {
      "image/png": "[encoded data removed]",
      "text/plain": [
       "<Figure size 720x432 with 1 Axes>"
      ]
     },
     "metadata": {
      "needs_background": "light"
     },
     "output_type": "display_data"
    }
   ],
   "source": [
    "#number of reviews\n",
    "plt.figure(figsize=(10, 6))\n",
    "sns.histplot(houses['number_of_reviews'], kde=True,bins=50, color='blue')\n",
    "plt.title('Number of reviews distribution')\n",
    "plt.show()"
   ]
  },
  {
   "cell_type": "code",
   "execution_count": 179,
   "metadata": {},
   "outputs": [
    {
     "data": {
      "image/png": "[encoded data removed]",
      "text/plain": [
       "<Figure size 720x432 with 1 Axes>"
      ]
     },
     "metadata": {
      "needs_background": "light"
     },
     "output_type": "display_data"
    }
   ],
   "source": [
    "#reviews per month calculated host listings count\n",
    "plt.figure(figsize=(10, 6))\n",
    "sns.histplot(houses['reviews_per_month'], kde=True,bins=50, color='blue')\n",
    "plt.title('Reviews per month distribution')\n",
    "plt.show()\n"
   ]
  },
  {
   "cell_type": "code",
   "execution_count": 180,
   "metadata": {},
   "outputs": [
    {
     "data": {
      "image/png": "[encoded data removed]",
      "text/plain": [
       "<Figure size 720x432 with 1 Axes>"
      ]
     },
     "metadata": {
      "needs_background": "light"
     },
     "output_type": "display_data"
    }
   ],
   "source": [
    "#availability_365\n",
    "plt.figure(figsize=(10, 6))\n",
    "sns.histplot(houses['availability_365'], kde=True,bins=50, color='blue')\n",
    "plt.title('Availability 365 distribution')\n",
    "plt.show()"
   ]
  },
  {
   "cell_type": "code",
   "execution_count": 181,
   "metadata": {},
   "outputs": [
    {
     "data": {
      "image/png": "[encoded data removed]",
      "text/plain": [
       "<Figure size 720x432 with 1 Axes>"
      ]
     },
     "metadata": {
      "needs_background": "light"
     },
     "output_type": "display_data"
    }
   ],
   "source": [
    "#number of reviews ltm\n",
    "plt.figure(figsize=(10, 6))\n",
    "sns.histplot(houses['number_of_reviews_ltm'], kde=True,bins=50, color='blue')\n",
    "plt.title('Number of reviews ltm distribution')\n",
    "plt.show()\n",
    "\n"
   ]
  },
  {
   "cell_type": "markdown",
   "metadata": {},
   "source": [
    "#### Univariate analysis for categorical columns\n"
   ]
  },
  {
   "cell_type": "code",
   "execution_count": 182,
   "metadata": {},
   "outputs": [
    {
     "data": {
      "text/plain": [
       "Index(['name', 'host_name', 'neighbourhood', 'room_type'], dtype='object')"
      ]
     },
     "execution_count": 182,
     "metadata": {},
     "output_type": "execute_result"
    }
   ],
   "source": [
    "#categorical columns\n",
    "houses.select_dtypes(include=['object']).columns"
   ]
  },
  {
   "cell_type": "code",
   "execution_count": 186,
   "metadata": {},
   "outputs": [
    {
     "data": {
      "image/png": "[encoded data removed]",
      "text/plain": [
       "<Figure size 720x1440 with 1 Axes>"
      ]
     },
     "metadata": {
      "needs_background": "light"
     },
     "output_type": "display_data"
    }
   ],
   "source": [
    "#neighbourhood column\n",
    "plt.figure(figsize=(10, 20))\n",
    "sns.countplot(houses['neighbourhood'], order = houses['neighbourhood'].value_counts().index)    \n",
    "plt.xticks(rotation=90)\n",
    "plt.title('Neighbourhood distribution')\n",
    "plt.show()\n"
   ]
  },
  {
   "cell_type": "code",
   "execution_count": 188,
   "metadata": {},
   "outputs": [
    {
     "name": "stdout",
     "output_type": "stream",
     "text": [
      "room_type\n",
      "Entire home/apt    21234\n",
      "Private room        4366\n",
      "Hotel room           127\n",
      "Shared room           17\n",
      "Name: count, dtype: int64\n"
     ]
    },
    {
     "data": {
      "image/png": "[encoded data removed]",
      "text/plain": [
       "<Figure size 720x432 with 1 Axes>"
      ]
     },
     "metadata": {
      "needs_background": "light"
     },
     "output_type": "display_data"
    }
   ],
   "source": [
    "#count the roomtypes\n",
    "print(houses['room_type'].value_counts())\n",
    "\n",
    "#Roomtype distribution \n",
    "plt.figure(figsize=(10, 6))\n",
    "sns.countplot(houses['room_type'], order = houses['room_type'].value_counts().index)\n",
    "plt.title('Room type distribution')\n",
    "plt.show()\n"
   ]
  },
  {
   "cell_type": "code",
   "execution_count": null,
   "metadata": {},
   "outputs": [],
   "source": []
  }
 ],
 "metadata": {
  "kernelspec": {
   "display_name": "Python (learn-env)",
   "language": "python",
   "name": "learn-env"
  },
  "language_info": {
   "codemirror_mode": {
    "name": "ipython",
    "version": 3
   },
   "file_extension": ".py",
   "mimetype": "text/x-python",
   "name": "python",
   "nbconvert_exporter": "python",
   "pygments_lexer": "ipython3",
   "version": "3.8.5"
  }
 },
 "nbformat": 4,
 "nbformat_minor": 2
}
